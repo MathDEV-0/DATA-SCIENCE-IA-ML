{
 "cells": [
  {
   "cell_type": "markdown",
   "metadata": {},
   "source": [
    "# Desafio 2:\n",
    "    League of Legends Statistics"
   ]
  },
  {
   "cell_type": "markdown",
   "metadata": {},
   "source": [
    "# Desafio 2.1: Estatísticas por Campeão\n",
    "\n",
    "    Ler a tabela no pandas.\n",
    "    Calcular a média da taxa de vitória para todas as funções.\n",
    "    Identificar o campeão com a maior taxa de ban.\n",
    "    Criar um gráfico de barras comparando a taxa de pick de cada campeão.\n",
    "    Salvar a tabela atualizada com uma nova coluna chamada \"Meta\", que marque campeões com Taxa de Vitória > 52% como \"Sim\" e os demais como \"Não\".\n",
    "\n"
   ]
  },
  {
   "cell_type": "code",
   "execution_count": 2,
   "metadata": {},
   "outputs": [],
   "source": [
    "import pandas as pd"
   ]
  },
  {
   "cell_type": "code",
   "execution_count": 3,
   "metadata": {},
   "outputs": [],
   "source": [
    "stats_per_champ = pd.read_excel('.\\desafio2.1.xlsx')"
   ]
  },
  {
   "cell_type": "code",
   "execution_count": 4,
   "metadata": {},
   "outputs": [
    {
     "data": {
      "text/html": [
       "<div>\n",
       "<style scoped>\n",
       "    .dataframe tbody tr th:only-of-type {\n",
       "        vertical-align: middle;\n",
       "    }\n",
       "\n",
       "    .dataframe tbody tr th {\n",
       "        vertical-align: top;\n",
       "    }\n",
       "\n",
       "    .dataframe thead th {\n",
       "        text-align: right;\n",
       "    }\n",
       "</style>\n",
       "<table border=\"1\" class=\"dataframe\">\n",
       "  <thead>\n",
       "    <tr style=\"text-align: right;\">\n",
       "      <th></th>\n",
       "      <th>Campeão</th>\n",
       "      <th>Função</th>\n",
       "      <th>Taxa de Vitória (%)</th>\n",
       "      <th>Taxa de Pick (%)</th>\n",
       "      <th>Taxa de Ban (%)</th>\n",
       "    </tr>\n",
       "  </thead>\n",
       "  <tbody>\n",
       "    <tr>\n",
       "      <th>0</th>\n",
       "      <td>Jinx</td>\n",
       "      <td>ADC</td>\n",
       "      <td>51.40</td>\n",
       "      <td>23.80</td>\n",
       "      <td>10.50</td>\n",
       "    </tr>\n",
       "    <tr>\n",
       "      <th>1</th>\n",
       "      <td>Yasuo</td>\n",
       "      <td>Mid</td>\n",
       "      <td>48.90</td>\n",
       "      <td>15.20</td>\n",
       "      <td>22.10</td>\n",
       "    </tr>\n",
       "    <tr>\n",
       "      <th>2</th>\n",
       "      <td>Amumu</td>\n",
       "      <td>Jungle</td>\n",
       "      <td>53.30</td>\n",
       "      <td>8.40</td>\n",
       "      <td>12.60</td>\n",
       "    </tr>\n",
       "    <tr>\n",
       "      <th>3</th>\n",
       "      <td>Malphite</td>\n",
       "      <td>Top</td>\n",
       "      <td>52.00</td>\n",
       "      <td>5.70</td>\n",
       "      <td>3.90</td>\n",
       "    </tr>\n",
       "    <tr>\n",
       "      <th>4</th>\n",
       "      <td>Dr. Mundo</td>\n",
       "      <td>Jungle</td>\n",
       "      <td>67.50</td>\n",
       "      <td>0.53</td>\n",
       "      <td>0.14</td>\n",
       "    </tr>\n",
       "    <tr>\n",
       "      <th>5</th>\n",
       "      <td>Taliyah</td>\n",
       "      <td>Mid</td>\n",
       "      <td>61.11</td>\n",
       "      <td>1.40</td>\n",
       "      <td>0.43</td>\n",
       "    </tr>\n",
       "    <tr>\n",
       "      <th>6</th>\n",
       "      <td>Kog'Maw</td>\n",
       "      <td>ADC</td>\n",
       "      <td>58.87</td>\n",
       "      <td>1.61</td>\n",
       "      <td>1.21</td>\n",
       "    </tr>\n",
       "    <tr>\n",
       "      <th>7</th>\n",
       "      <td>Hwei</td>\n",
       "      <td>Suporte</td>\n",
       "      <td>34.55</td>\n",
       "      <td>0.73</td>\n",
       "      <td>0.56</td>\n",
       "    </tr>\n",
       "    <tr>\n",
       "      <th>8</th>\n",
       "      <td>Rell</td>\n",
       "      <td>Suporte</td>\n",
       "      <td>56.10</td>\n",
       "      <td>5.10</td>\n",
       "      <td>4.62</td>\n",
       "    </tr>\n",
       "    <tr>\n",
       "      <th>9</th>\n",
       "      <td>Rakan</td>\n",
       "      <td>Suporte</td>\n",
       "      <td>54.47</td>\n",
       "      <td>6.80</td>\n",
       "      <td>0.79</td>\n",
       "    </tr>\n",
       "    <tr>\n",
       "      <th>10</th>\n",
       "      <td>Riven</td>\n",
       "      <td>Top</td>\n",
       "      <td>54.29</td>\n",
       "      <td>7.02</td>\n",
       "      <td>3.92</td>\n",
       "    </tr>\n",
       "    <tr>\n",
       "      <th>11</th>\n",
       "      <td>Malphite</td>\n",
       "      <td>Top</td>\n",
       "      <td>57.54</td>\n",
       "      <td>3.73</td>\n",
       "      <td>5.02</td>\n",
       "    </tr>\n",
       "    <tr>\n",
       "      <th>12</th>\n",
       "      <td>Viktor</td>\n",
       "      <td>Mid</td>\n",
       "      <td>51.72</td>\n",
       "      <td>34.06</td>\n",
       "      <td>22.53</td>\n",
       "    </tr>\n",
       "  </tbody>\n",
       "</table>\n",
       "</div>"
      ],
      "text/plain": [
       "      Campeão   Função  Taxa de Vitória (%)  Taxa de Pick (%)  Taxa de Ban (%)\n",
       "0        Jinx      ADC                51.40             23.80            10.50\n",
       "1       Yasuo      Mid                48.90             15.20            22.10\n",
       "2       Amumu   Jungle                53.30              8.40            12.60\n",
       "3    Malphite      Top                52.00              5.70             3.90\n",
       "4   Dr. Mundo   Jungle                67.50              0.53             0.14\n",
       "5     Taliyah      Mid                61.11              1.40             0.43\n",
       "6     Kog'Maw      ADC                58.87              1.61             1.21\n",
       "7        Hwei  Suporte                34.55              0.73             0.56\n",
       "8        Rell  Suporte                56.10              5.10             4.62\n",
       "9       Rakan  Suporte                54.47              6.80             0.79\n",
       "10      Riven      Top                54.29              7.02             3.92\n",
       "11   Malphite      Top                57.54              3.73             5.02\n",
       "12     Viktor      Mid                51.72             34.06            22.53"
      ]
     },
     "execution_count": 4,
     "metadata": {},
     "output_type": "execute_result"
    }
   ],
   "source": [
    "stats_per_champ"
   ]
  },
  {
   "cell_type": "markdown",
   "metadata": {},
   "source": [
    "# Calcular a média da taxa de vitória para todas as funções."
   ]
  },
  {
   "cell_type": "code",
   "execution_count": 5,
   "metadata": {},
   "outputs": [],
   "source": [
    "media_winrate_role = stats_per_champ.groupby('Função')['Taxa de Vitória (%)'].mean()"
   ]
  },
  {
   "cell_type": "code",
   "execution_count": 6,
   "metadata": {},
   "outputs": [
    {
     "data": {
      "text/plain": [
       "Função\n",
       "ADC        55.135000\n",
       "Jungle     60.400000\n",
       "Mid        53.910000\n",
       "Suporte    48.373333\n",
       "Top        54.610000\n",
       "Name: Taxa de Vitória (%), dtype: float64"
      ]
     },
     "execution_count": 6,
     "metadata": {},
     "output_type": "execute_result"
    }
   ],
   "source": [
    "media_winrate_role"
   ]
  },
  {
   "cell_type": "markdown",
   "metadata": {},
   "source": [
    "# Campeão mais Banido"
   ]
  },
  {
   "cell_type": "markdown",
   "metadata": {},
   "source": []
  },
  {
   "cell_type": "code",
   "execution_count": 7,
   "metadata": {},
   "outputs": [],
   "source": [
    "banned_rate = stats_per_champ.groupby('Campeão')['Taxa de Ban (%)'].sum()"
   ]
  },
  {
   "cell_type": "code",
   "execution_count": 8,
   "metadata": {},
   "outputs": [],
   "source": [
    "most_banned_champ = banned_rate.idxmax()"
   ]
  },
  {
   "cell_type": "code",
   "execution_count": 9,
   "metadata": {},
   "outputs": [
    {
     "data": {
      "text/plain": [
       "'Viktor'"
      ]
     },
     "execution_count": 9,
     "metadata": {},
     "output_type": "execute_result"
    }
   ],
   "source": [
    "most_banned_champ"
   ]
  },
  {
   "cell_type": "code",
   "execution_count": 10,
   "metadata": {},
   "outputs": [],
   "source": [
    "least_banned_champ = banned_rate.idxmin()"
   ]
  },
  {
   "cell_type": "code",
   "execution_count": 11,
   "metadata": {},
   "outputs": [
    {
     "data": {
      "text/plain": [
       "'Dr. Mundo'"
      ]
     },
     "execution_count": 11,
     "metadata": {},
     "output_type": "execute_result"
    }
   ],
   "source": [
    "least_banned_champ"
   ]
  },
  {
   "cell_type": "markdown",
   "metadata": {},
   "source": [
    "# Criar um gráfico de barras comparando a taxa de pick de cada campeão"
   ]
  },
  {
   "cell_type": "code",
   "execution_count": 12,
   "metadata": {},
   "outputs": [],
   "source": [
    "import matplotlib.pyplot as plt"
   ]
  },
  {
   "cell_type": "code",
   "execution_count": 13,
   "metadata": {},
   "outputs": [],
   "source": [
    "pick_rates = stats_per_champ.groupby('Campeão')['Taxa de Pick (%)'].mean()"
   ]
  },
  {
   "cell_type": "code",
   "execution_count": 14,
   "metadata": {},
   "outputs": [
    {
     "data": {
      "text/plain": [
       "Campeão\n",
       "Amumu         8.400\n",
       "Dr. Mundo     0.530\n",
       "Hwei          0.730\n",
       "Jinx         23.800\n",
       "Kog'Maw       1.610\n",
       "Malphite      4.715\n",
       "Rakan         6.800\n",
       "Rell          5.100\n",
       "Riven         7.020\n",
       "Taliyah       1.400\n",
       "Viktor       34.060\n",
       "Yasuo        15.200\n",
       "Name: Taxa de Pick (%), dtype: float64"
      ]
     },
     "execution_count": 14,
     "metadata": {},
     "output_type": "execute_result"
    }
   ],
   "source": [
    "pick_rates"
   ]
  },
  {
   "cell_type": "code",
   "execution_count": 15,
   "metadata": {},
   "outputs": [
    {
     "data": {
      "image/png": "[encoded data removed]",
      "text/plain": [
       "<Figure size 1000x600 with 1 Axes>"
      ]
     },
     "metadata": {},
     "output_type": "display_data"
    }
   ],
   "source": [
    "plt.figure(figsize=(10,6))\n",
    "plt.bar(pick_rates.index,pick_rates.values, color = 'skyblue', edgecolor= 'black')\n",
    "\n",
    "plt.title('Taxa de Pick por Campeão',fontsize= 16)\n",
    "plt.xlabel('Campeão',fontsize=12)\n",
    "plt.ylabel('Taxa de Pick (%)', fontsize=12)\n",
    "\n",
    "for index, value in enumerate(pick_rates.values):\n",
    "    plt.text(index, value + 0.5, f\"{value:.1f}%\", ha='center', fontsize=10)\n",
    "\n",
    "plt.xticks(rotation=45)  # Rotacionar os nomes dos campeões se necessário\n",
    "plt.tight_layout()\n",
    "\n",
    "plt.show()\n"
   ]
  },
  {
   "cell_type": "code",
   "execution_count": 16,
   "metadata": {},
   "outputs": [],
   "source": [
    "winrates = stats_per_champ.groupby('Campeão')['Taxa de Vitória (%)'].mean()"
   ]
  },
  {
   "cell_type": "code",
   "execution_count": 17,
   "metadata": {},
   "outputs": [],
   "source": [
    "Meta = winrates.loc[winrates > 52]"
   ]
  },
  {
   "cell_type": "code",
   "execution_count": 18,
   "metadata": {},
   "outputs": [
    {
     "data": {
      "text/plain": [
       "Campeão\n",
       "Amumu        53.30\n",
       "Dr. Mundo    67.50\n",
       "Kog'Maw      58.87\n",
       "Malphite     54.77\n",
       "Rakan        54.47\n",
       "Rell         56.10\n",
       "Riven        54.29\n",
       "Taliyah      61.11\n",
       "Name: Taxa de Vitória (%), dtype: float64"
      ]
     },
     "execution_count": 18,
     "metadata": {},
     "output_type": "execute_result"
    }
   ],
   "source": [
    "Meta"
   ]
  },
  {
   "cell_type": "code",
   "execution_count": 19,
   "metadata": {},
   "outputs": [],
   "source": [
    "stats_per_champ['Meta'] = 'Não'\n",
    "for i in range(len(stats_per_champ)):\n",
    "    if stats_per_champ.loc[i, 'Campeão'] in Meta.index:\n",
    "        stats_per_champ.loc[i, 'Meta'] = 'Sim'"
   ]
  },
  {
   "cell_type": "code",
   "execution_count": 20,
   "metadata": {},
   "outputs": [
    {
     "data": {
      "text/html": [
       "<div>\n",
       "<style scoped>\n",
       "    .dataframe tbody tr th:only-of-type {\n",
       "        vertical-align: middle;\n",
       "    }\n",
       "\n",
       "    .dataframe tbody tr th {\n",
       "        vertical-align: top;\n",
       "    }\n",
       "\n",
       "    .dataframe thead th {\n",
       "        text-align: right;\n",
       "    }\n",
       "</style>\n",
       "<table border=\"1\" class=\"dataframe\">\n",
       "  <thead>\n",
       "    <tr style=\"text-align: right;\">\n",
       "      <th></th>\n",
       "      <th>Campeão</th>\n",
       "      <th>Função</th>\n",
       "      <th>Taxa de Vitória (%)</th>\n",
       "      <th>Taxa de Pick (%)</th>\n",
       "      <th>Taxa de Ban (%)</th>\n",
       "      <th>Meta</th>\n",
       "    </tr>\n",
       "  </thead>\n",
       "  <tbody>\n",
       "    <tr>\n",
       "      <th>0</th>\n",
       "      <td>Jinx</td>\n",
       "      <td>ADC</td>\n",
       "      <td>51.40</td>\n",
       "      <td>23.80</td>\n",
       "      <td>10.50</td>\n",
       "      <td>Não</td>\n",
       "    </tr>\n",
       "    <tr>\n",
       "      <th>1</th>\n",
       "      <td>Yasuo</td>\n",
       "      <td>Mid</td>\n",
       "      <td>48.90</td>\n",
       "      <td>15.20</td>\n",
       "      <td>22.10</td>\n",
       "      <td>Não</td>\n",
       "    </tr>\n",
       "    <tr>\n",
       "      <th>2</th>\n",
       "      <td>Amumu</td>\n",
       "      <td>Jungle</td>\n",
       "      <td>53.30</td>\n",
       "      <td>8.40</td>\n",
       "      <td>12.60</td>\n",
       "      <td>Sim</td>\n",
       "    </tr>\n",
       "    <tr>\n",
       "      <th>3</th>\n",
       "      <td>Malphite</td>\n",
       "      <td>Top</td>\n",
       "      <td>52.00</td>\n",
       "      <td>5.70</td>\n",
       "      <td>3.90</td>\n",
       "      <td>Sim</td>\n",
       "    </tr>\n",
       "    <tr>\n",
       "      <th>4</th>\n",
       "      <td>Dr. Mundo</td>\n",
       "      <td>Jungle</td>\n",
       "      <td>67.50</td>\n",
       "      <td>0.53</td>\n",
       "      <td>0.14</td>\n",
       "      <td>Sim</td>\n",
       "    </tr>\n",
       "    <tr>\n",
       "      <th>5</th>\n",
       "      <td>Taliyah</td>\n",
       "      <td>Mid</td>\n",
       "      <td>61.11</td>\n",
       "      <td>1.40</td>\n",
       "      <td>0.43</td>\n",
       "      <td>Sim</td>\n",
       "    </tr>\n",
       "    <tr>\n",
       "      <th>6</th>\n",
       "      <td>Kog'Maw</td>\n",
       "      <td>ADC</td>\n",
       "      <td>58.87</td>\n",
       "      <td>1.61</td>\n",
       "      <td>1.21</td>\n",
       "      <td>Sim</td>\n",
       "    </tr>\n",
       "    <tr>\n",
       "      <th>7</th>\n",
       "      <td>Hwei</td>\n",
       "      <td>Suporte</td>\n",
       "      <td>34.55</td>\n",
       "      <td>0.73</td>\n",
       "      <td>0.56</td>\n",
       "      <td>Não</td>\n",
       "    </tr>\n",
       "    <tr>\n",
       "      <th>8</th>\n",
       "      <td>Rell</td>\n",
       "      <td>Suporte</td>\n",
       "      <td>56.10</td>\n",
       "      <td>5.10</td>\n",
       "      <td>4.62</td>\n",
       "      <td>Sim</td>\n",
       "    </tr>\n",
       "    <tr>\n",
       "      <th>9</th>\n",
       "      <td>Rakan</td>\n",
       "      <td>Suporte</td>\n",
       "      <td>54.47</td>\n",
       "      <td>6.80</td>\n",
       "      <td>0.79</td>\n",
       "      <td>Sim</td>\n",
       "    </tr>\n",
       "    <tr>\n",
       "      <th>10</th>\n",
       "      <td>Riven</td>\n",
       "      <td>Top</td>\n",
       "      <td>54.29</td>\n",
       "      <td>7.02</td>\n",
       "      <td>3.92</td>\n",
       "      <td>Sim</td>\n",
       "    </tr>\n",
       "    <tr>\n",
       "      <th>11</th>\n",
       "      <td>Malphite</td>\n",
       "      <td>Top</td>\n",
       "      <td>57.54</td>\n",
       "      <td>3.73</td>\n",
       "      <td>5.02</td>\n",
       "      <td>Sim</td>\n",
       "    </tr>\n",
       "    <tr>\n",
       "      <th>12</th>\n",
       "      <td>Viktor</td>\n",
       "      <td>Mid</td>\n",
       "      <td>51.72</td>\n",
       "      <td>34.06</td>\n",
       "      <td>22.53</td>\n",
       "      <td>Não</td>\n",
       "    </tr>\n",
       "  </tbody>\n",
       "</table>\n",
       "</div>"
      ],
      "text/plain": [
       "      Campeão   Função  Taxa de Vitória (%)  Taxa de Pick (%)  \\\n",
       "0        Jinx      ADC                51.40             23.80   \n",
       "1       Yasuo      Mid                48.90             15.20   \n",
       "2       Amumu   Jungle                53.30              8.40   \n",
       "3    Malphite      Top                52.00              5.70   \n",
       "4   Dr. Mundo   Jungle                67.50              0.53   \n",
       "5     Taliyah      Mid                61.11              1.40   \n",
       "6     Kog'Maw      ADC                58.87              1.61   \n",
       "7        Hwei  Suporte                34.55              0.73   \n",
       "8        Rell  Suporte                56.10              5.10   \n",
       "9       Rakan  Suporte                54.47              6.80   \n",
       "10      Riven      Top                54.29              7.02   \n",
       "11   Malphite      Top                57.54              3.73   \n",
       "12     Viktor      Mid                51.72             34.06   \n",
       "\n",
       "    Taxa de Ban (%) Meta  \n",
       "0             10.50  Não  \n",
       "1             22.10  Não  \n",
       "2             12.60  Sim  \n",
       "3              3.90  Sim  \n",
       "4              0.14  Sim  \n",
       "5              0.43  Sim  \n",
       "6              1.21  Sim  \n",
       "7              0.56  Não  \n",
       "8              4.62  Sim  \n",
       "9              0.79  Sim  \n",
       "10             3.92  Sim  \n",
       "11             5.02  Sim  \n",
       "12            22.53  Não  "
      ]
     },
     "execution_count": 20,
     "metadata": {},
     "output_type": "execute_result"
    }
   ],
   "source": [
    "stats_per_champ"
   ]
  },
  {
   "cell_type": "code",
   "execution_count": 21,
   "metadata": {},
   "outputs": [],
   "source": [
    "output_file_1= 'tabela_atualizada_ex_2_1.xlsx'\n",
    "\n",
    "stats_per_champ.to_excel(output_file_1, index= False)"
   ]
  },
  {
   "cell_type": "markdown",
   "metadata": {},
   "source": [
    "# Exercício 2.2\n",
    "\n",
    "        Desafio 2: Análise de Desempenho em Partidas\n",
    "        Contexto: Você tem um arquivo desempenho_partidas.xlsx com dados de desempenho por jogador nas últimas 10 partidas:\n",
    "\n",
    "        Tarefa:\n",
    "\n",
    "        Calcular o KDA (Kills + Assists) / Deaths para cada linha.\n",
    "        Criar um gráfico de linhas que mostre o dano total ao longo das partidas para cada jogador.\n",
    "        Filtrar apenas as partidas vencidas e salvar em um novo arquivo vitorias.csv.\n",
    "        Descobrir qual jogador tem o melhor KDA médio.\n",
    "        Ordenar os dados por Data e Resultado (Vitórias primeiro) e salvar como desempenho_ordenado.csv."
   ]
  },
  {
   "cell_type": "code",
   "execution_count": 22,
   "metadata": {},
   "outputs": [],
   "source": [
    "performance_stats= pd.read_excel('.\\desempenho_partidas.xlsx')"
   ]
  },
  {
   "cell_type": "code",
   "execution_count": 23,
   "metadata": {},
   "outputs": [
    {
     "data": {
      "text/html": [
       "<div>\n",
       "<style scoped>\n",
       "    .dataframe tbody tr th:only-of-type {\n",
       "        vertical-align: middle;\n",
       "    }\n",
       "\n",
       "    .dataframe tbody tr th {\n",
       "        vertical-align: top;\n",
       "    }\n",
       "\n",
       "    .dataframe thead th {\n",
       "        text-align: right;\n",
       "    }\n",
       "</style>\n",
       "<table border=\"1\" class=\"dataframe\">\n",
       "  <thead>\n",
       "    <tr style=\"text-align: right;\">\n",
       "      <th></th>\n",
       "      <th>Jogador</th>\n",
       "      <th>Data</th>\n",
       "      <th>Campeão</th>\n",
       "      <th>Kills</th>\n",
       "      <th>Deaths</th>\n",
       "      <th>Assists</th>\n",
       "      <th>CS</th>\n",
       "      <th>Dano Total</th>\n",
       "      <th>Resultado</th>\n",
       "    </tr>\n",
       "  </thead>\n",
       "  <tbody>\n",
       "    <tr>\n",
       "      <th>0</th>\n",
       "      <td>Player1</td>\n",
       "      <td>2024-12-10</td>\n",
       "      <td>Jinx</td>\n",
       "      <td>8</td>\n",
       "      <td>4</td>\n",
       "      <td>12</td>\n",
       "      <td>200</td>\n",
       "      <td>24500</td>\n",
       "      <td>Vitória</td>\n",
       "    </tr>\n",
       "    <tr>\n",
       "      <th>1</th>\n",
       "      <td>Player2</td>\n",
       "      <td>2024-12-10</td>\n",
       "      <td>Yasuo</td>\n",
       "      <td>5</td>\n",
       "      <td>7</td>\n",
       "      <td>6</td>\n",
       "      <td>150</td>\n",
       "      <td>18000</td>\n",
       "      <td>Derrota</td>\n",
       "    </tr>\n",
       "    <tr>\n",
       "      <th>2</th>\n",
       "      <td>Player1</td>\n",
       "      <td>2024-12-09</td>\n",
       "      <td>Amumu</td>\n",
       "      <td>2</td>\n",
       "      <td>3</td>\n",
       "      <td>15</td>\n",
       "      <td>120</td>\n",
       "      <td>21000</td>\n",
       "      <td>Vitória</td>\n",
       "    </tr>\n",
       "    <tr>\n",
       "      <th>3</th>\n",
       "      <td>Player3</td>\n",
       "      <td>2024-12-08</td>\n",
       "      <td>Malphite</td>\n",
       "      <td>3</td>\n",
       "      <td>6</td>\n",
       "      <td>10</td>\n",
       "      <td>90</td>\n",
       "      <td>15000</td>\n",
       "      <td>Derrota</td>\n",
       "    </tr>\n",
       "  </tbody>\n",
       "</table>\n",
       "</div>"
      ],
      "text/plain": [
       "   Jogador       Data   Campeão  Kills  Deaths  Assists   CS  Dano Total  \\\n",
       "0  Player1 2024-12-10      Jinx      8       4       12  200       24500   \n",
       "1  Player2 2024-12-10     Yasuo      5       7        6  150       18000   \n",
       "2  Player1 2024-12-09     Amumu      2       3       15  120       21000   \n",
       "3  Player3 2024-12-08  Malphite      3       6       10   90       15000   \n",
       "\n",
       "  Resultado  \n",
       "0   Vitória  \n",
       "1   Derrota  \n",
       "2   Vitória  \n",
       "3   Derrota  "
      ]
     },
     "execution_count": 23,
     "metadata": {},
     "output_type": "execute_result"
    }
   ],
   "source": [
    "performance_stats"
   ]
  },
  {
   "cell_type": "markdown",
   "metadata": {},
   "source": [
    "# KDA"
   ]
  },
  {
   "cell_type": "code",
   "execution_count": 24,
   "metadata": {},
   "outputs": [],
   "source": [
    "kda = ((performance_stats['Kills'] + performance_stats['Assists']) / performance_stats['Deaths']).round(2)\n"
   ]
  },
  {
   "cell_type": "code",
   "execution_count": 25,
   "metadata": {},
   "outputs": [
    {
     "data": {
      "text/plain": [
       "0    5.00\n",
       "1    1.57\n",
       "2    5.67\n",
       "3    2.17\n",
       "dtype: float64"
      ]
     },
     "execution_count": 25,
     "metadata": {},
     "output_type": "execute_result"
    }
   ],
   "source": [
    "kda"
   ]
  },
  {
   "cell_type": "code",
   "execution_count": 26,
   "metadata": {},
   "outputs": [],
   "source": [
    "performance_stats['KDA']= kda"
   ]
  },
  {
   "cell_type": "code",
   "execution_count": 27,
   "metadata": {},
   "outputs": [
    {
     "data": {
      "text/html": [
       "<div>\n",
       "<style scoped>\n",
       "    .dataframe tbody tr th:only-of-type {\n",
       "        vertical-align: middle;\n",
       "    }\n",
       "\n",
       "    .dataframe tbody tr th {\n",
       "        vertical-align: top;\n",
       "    }\n",
       "\n",
       "    .dataframe thead th {\n",
       "        text-align: right;\n",
       "    }\n",
       "</style>\n",
       "<table border=\"1\" class=\"dataframe\">\n",
       "  <thead>\n",
       "    <tr style=\"text-align: right;\">\n",
       "      <th></th>\n",
       "      <th>Jogador</th>\n",
       "      <th>Data</th>\n",
       "      <th>Campeão</th>\n",
       "      <th>Kills</th>\n",
       "      <th>Deaths</th>\n",
       "      <th>Assists</th>\n",
       "      <th>CS</th>\n",
       "      <th>Dano Total</th>\n",
       "      <th>Resultado</th>\n",
       "      <th>KDA</th>\n",
       "    </tr>\n",
       "  </thead>\n",
       "  <tbody>\n",
       "    <tr>\n",
       "      <th>0</th>\n",
       "      <td>Player1</td>\n",
       "      <td>2024-12-10</td>\n",
       "      <td>Jinx</td>\n",
       "      <td>8</td>\n",
       "      <td>4</td>\n",
       "      <td>12</td>\n",
       "      <td>200</td>\n",
       "      <td>24500</td>\n",
       "      <td>Vitória</td>\n",
       "      <td>5.00</td>\n",
       "    </tr>\n",
       "    <tr>\n",
       "      <th>1</th>\n",
       "      <td>Player2</td>\n",
       "      <td>2024-12-10</td>\n",
       "      <td>Yasuo</td>\n",
       "      <td>5</td>\n",
       "      <td>7</td>\n",
       "      <td>6</td>\n",
       "      <td>150</td>\n",
       "      <td>18000</td>\n",
       "      <td>Derrota</td>\n",
       "      <td>1.57</td>\n",
       "    </tr>\n",
       "    <tr>\n",
       "      <th>2</th>\n",
       "      <td>Player1</td>\n",
       "      <td>2024-12-09</td>\n",
       "      <td>Amumu</td>\n",
       "      <td>2</td>\n",
       "      <td>3</td>\n",
       "      <td>15</td>\n",
       "      <td>120</td>\n",
       "      <td>21000</td>\n",
       "      <td>Vitória</td>\n",
       "      <td>5.67</td>\n",
       "    </tr>\n",
       "    <tr>\n",
       "      <th>3</th>\n",
       "      <td>Player3</td>\n",
       "      <td>2024-12-08</td>\n",
       "      <td>Malphite</td>\n",
       "      <td>3</td>\n",
       "      <td>6</td>\n",
       "      <td>10</td>\n",
       "      <td>90</td>\n",
       "      <td>15000</td>\n",
       "      <td>Derrota</td>\n",
       "      <td>2.17</td>\n",
       "    </tr>\n",
       "  </tbody>\n",
       "</table>\n",
       "</div>"
      ],
      "text/plain": [
       "   Jogador       Data   Campeão  Kills  Deaths  Assists   CS  Dano Total  \\\n",
       "0  Player1 2024-12-10      Jinx      8       4       12  200       24500   \n",
       "1  Player2 2024-12-10     Yasuo      5       7        6  150       18000   \n",
       "2  Player1 2024-12-09     Amumu      2       3       15  120       21000   \n",
       "3  Player3 2024-12-08  Malphite      3       6       10   90       15000   \n",
       "\n",
       "  Resultado   KDA  \n",
       "0   Vitória  5.00  \n",
       "1   Derrota  1.57  \n",
       "2   Vitória  5.67  \n",
       "3   Derrota  2.17  "
      ]
     },
     "execution_count": 27,
     "metadata": {},
     "output_type": "execute_result"
    }
   ],
   "source": [
    "performance_stats"
   ]
  },
  {
   "cell_type": "markdown",
   "metadata": {},
   "source": [
    "# Partidas Vencidas"
   ]
  },
  {
   "cell_type": "code",
   "execution_count": 28,
   "metadata": {},
   "outputs": [],
   "source": [
    "winned_matches = performance_stats[performance_stats['Resultado'] == 'Vitória']"
   ]
  },
  {
   "cell_type": "code",
   "execution_count": 29,
   "metadata": {},
   "outputs": [
    {
     "data": {
      "text/html": [
       "<div>\n",
       "<style scoped>\n",
       "    .dataframe tbody tr th:only-of-type {\n",
       "        vertical-align: middle;\n",
       "    }\n",
       "\n",
       "    .dataframe tbody tr th {\n",
       "        vertical-align: top;\n",
       "    }\n",
       "\n",
       "    .dataframe thead th {\n",
       "        text-align: right;\n",
       "    }\n",
       "</style>\n",
       "<table border=\"1\" class=\"dataframe\">\n",
       "  <thead>\n",
       "    <tr style=\"text-align: right;\">\n",
       "      <th></th>\n",
       "      <th>Jogador</th>\n",
       "      <th>Data</th>\n",
       "      <th>Campeão</th>\n",
       "      <th>Kills</th>\n",
       "      <th>Deaths</th>\n",
       "      <th>Assists</th>\n",
       "      <th>CS</th>\n",
       "      <th>Dano Total</th>\n",
       "      <th>Resultado</th>\n",
       "      <th>KDA</th>\n",
       "    </tr>\n",
       "  </thead>\n",
       "  <tbody>\n",
       "    <tr>\n",
       "      <th>0</th>\n",
       "      <td>Player1</td>\n",
       "      <td>2024-12-10</td>\n",
       "      <td>Jinx</td>\n",
       "      <td>8</td>\n",
       "      <td>4</td>\n",
       "      <td>12</td>\n",
       "      <td>200</td>\n",
       "      <td>24500</td>\n",
       "      <td>Vitória</td>\n",
       "      <td>5.00</td>\n",
       "    </tr>\n",
       "    <tr>\n",
       "      <th>2</th>\n",
       "      <td>Player1</td>\n",
       "      <td>2024-12-09</td>\n",
       "      <td>Amumu</td>\n",
       "      <td>2</td>\n",
       "      <td>3</td>\n",
       "      <td>15</td>\n",
       "      <td>120</td>\n",
       "      <td>21000</td>\n",
       "      <td>Vitória</td>\n",
       "      <td>5.67</td>\n",
       "    </tr>\n",
       "  </tbody>\n",
       "</table>\n",
       "</div>"
      ],
      "text/plain": [
       "   Jogador       Data Campeão  Kills  Deaths  Assists   CS  Dano Total  \\\n",
       "0  Player1 2024-12-10    Jinx      8       4       12  200       24500   \n",
       "2  Player1 2024-12-09   Amumu      2       3       15  120       21000   \n",
       "\n",
       "  Resultado   KDA  \n",
       "0   Vitória  5.00  \n",
       "2   Vitória  5.67  "
      ]
     },
     "execution_count": 29,
     "metadata": {},
     "output_type": "execute_result"
    }
   ],
   "source": [
    "winned_matches"
   ]
  },
  {
   "cell_type": "code",
   "execution_count": 30,
   "metadata": {},
   "outputs": [],
   "source": [
    "winned_matches = winned_matches.sort_values('KDA', ascending=False)"
   ]
  },
  {
   "cell_type": "code",
   "execution_count": 31,
   "metadata": {},
   "outputs": [
    {
     "data": {
      "text/html": [
       "<div>\n",
       "<style scoped>\n",
       "    .dataframe tbody tr th:only-of-type {\n",
       "        vertical-align: middle;\n",
       "    }\n",
       "\n",
       "    .dataframe tbody tr th {\n",
       "        vertical-align: top;\n",
       "    }\n",
       "\n",
       "    .dataframe thead th {\n",
       "        text-align: right;\n",
       "    }\n",
       "</style>\n",
       "<table border=\"1\" class=\"dataframe\">\n",
       "  <thead>\n",
       "    <tr style=\"text-align: right;\">\n",
       "      <th></th>\n",
       "      <th>Jogador</th>\n",
       "      <th>Data</th>\n",
       "      <th>Campeão</th>\n",
       "      <th>Kills</th>\n",
       "      <th>Deaths</th>\n",
       "      <th>Assists</th>\n",
       "      <th>CS</th>\n",
       "      <th>Dano Total</th>\n",
       "      <th>Resultado</th>\n",
       "      <th>KDA</th>\n",
       "    </tr>\n",
       "  </thead>\n",
       "  <tbody>\n",
       "    <tr>\n",
       "      <th>2</th>\n",
       "      <td>Player1</td>\n",
       "      <td>2024-12-09</td>\n",
       "      <td>Amumu</td>\n",
       "      <td>2</td>\n",
       "      <td>3</td>\n",
       "      <td>15</td>\n",
       "      <td>120</td>\n",
       "      <td>21000</td>\n",
       "      <td>Vitória</td>\n",
       "      <td>5.67</td>\n",
       "    </tr>\n",
       "    <tr>\n",
       "      <th>0</th>\n",
       "      <td>Player1</td>\n",
       "      <td>2024-12-10</td>\n",
       "      <td>Jinx</td>\n",
       "      <td>8</td>\n",
       "      <td>4</td>\n",
       "      <td>12</td>\n",
       "      <td>200</td>\n",
       "      <td>24500</td>\n",
       "      <td>Vitória</td>\n",
       "      <td>5.00</td>\n",
       "    </tr>\n",
       "  </tbody>\n",
       "</table>\n",
       "</div>"
      ],
      "text/plain": [
       "   Jogador       Data Campeão  Kills  Deaths  Assists   CS  Dano Total  \\\n",
       "2  Player1 2024-12-09   Amumu      2       3       15  120       21000   \n",
       "0  Player1 2024-12-10    Jinx      8       4       12  200       24500   \n",
       "\n",
       "  Resultado   KDA  \n",
       "2   Vitória  5.67  \n",
       "0   Vitória  5.00  "
      ]
     },
     "execution_count": 31,
     "metadata": {},
     "output_type": "execute_result"
    }
   ],
   "source": [
    "winned_matches"
   ]
  },
  {
   "cell_type": "code",
   "execution_count": 32,
   "metadata": {},
   "outputs": [
    {
     "name": "stdout",
     "output_type": "stream",
     "text": [
      "vitorias.xlsx foi gerado\n"
     ]
    }
   ],
   "source": [
    "output_file_2= 'vitorias.xlsx'\n",
    "\n",
    "try:\n",
    "    winned_matches.to_excel(output_file_2, index= False)\n",
    "    print(f\"{output_file_2} foi gerado\")\n",
    "except Exception as e:\n",
    "    print(f\"Não foi possível gerar {output_file_2}\")"
   ]
  },
  {
   "cell_type": "markdown",
   "metadata": {},
   "source": [
    "# Criar um gráfico de linhas que mostre o dano total ao longo das partidas para cada jogador.\n"
   ]
  },
  {
   "cell_type": "code",
   "execution_count": 33,
   "metadata": {},
   "outputs": [],
   "source": [
    "damage_per_player= performance_stats.sort_values(by=['Jogador','Data'])"
   ]
  },
  {
   "cell_type": "code",
   "execution_count": 34,
   "metadata": {},
   "outputs": [
    {
     "data": {
      "text/html": [
       "<div>\n",
       "<style scoped>\n",
       "    .dataframe tbody tr th:only-of-type {\n",
       "        vertical-align: middle;\n",
       "    }\n",
       "\n",
       "    .dataframe tbody tr th {\n",
       "        vertical-align: top;\n",
       "    }\n",
       "\n",
       "    .dataframe thead th {\n",
       "        text-align: right;\n",
       "    }\n",
       "</style>\n",
       "<table border=\"1\" class=\"dataframe\">\n",
       "  <thead>\n",
       "    <tr style=\"text-align: right;\">\n",
       "      <th></th>\n",
       "      <th>Jogador</th>\n",
       "      <th>Data</th>\n",
       "      <th>Campeão</th>\n",
       "      <th>Kills</th>\n",
       "      <th>Deaths</th>\n",
       "      <th>Assists</th>\n",
       "      <th>CS</th>\n",
       "      <th>Dano Total</th>\n",
       "      <th>Resultado</th>\n",
       "      <th>KDA</th>\n",
       "    </tr>\n",
       "  </thead>\n",
       "  <tbody>\n",
       "    <tr>\n",
       "      <th>2</th>\n",
       "      <td>Player1</td>\n",
       "      <td>2024-12-09</td>\n",
       "      <td>Amumu</td>\n",
       "      <td>2</td>\n",
       "      <td>3</td>\n",
       "      <td>15</td>\n",
       "      <td>120</td>\n",
       "      <td>21000</td>\n",
       "      <td>Vitória</td>\n",
       "      <td>5.67</td>\n",
       "    </tr>\n",
       "    <tr>\n",
       "      <th>0</th>\n",
       "      <td>Player1</td>\n",
       "      <td>2024-12-10</td>\n",
       "      <td>Jinx</td>\n",
       "      <td>8</td>\n",
       "      <td>4</td>\n",
       "      <td>12</td>\n",
       "      <td>200</td>\n",
       "      <td>24500</td>\n",
       "      <td>Vitória</td>\n",
       "      <td>5.00</td>\n",
       "    </tr>\n",
       "    <tr>\n",
       "      <th>1</th>\n",
       "      <td>Player2</td>\n",
       "      <td>2024-12-10</td>\n",
       "      <td>Yasuo</td>\n",
       "      <td>5</td>\n",
       "      <td>7</td>\n",
       "      <td>6</td>\n",
       "      <td>150</td>\n",
       "      <td>18000</td>\n",
       "      <td>Derrota</td>\n",
       "      <td>1.57</td>\n",
       "    </tr>\n",
       "    <tr>\n",
       "      <th>3</th>\n",
       "      <td>Player3</td>\n",
       "      <td>2024-12-08</td>\n",
       "      <td>Malphite</td>\n",
       "      <td>3</td>\n",
       "      <td>6</td>\n",
       "      <td>10</td>\n",
       "      <td>90</td>\n",
       "      <td>15000</td>\n",
       "      <td>Derrota</td>\n",
       "      <td>2.17</td>\n",
       "    </tr>\n",
       "  </tbody>\n",
       "</table>\n",
       "</div>"
      ],
      "text/plain": [
       "   Jogador       Data   Campeão  Kills  Deaths  Assists   CS  Dano Total  \\\n",
       "2  Player1 2024-12-09     Amumu      2       3       15  120       21000   \n",
       "0  Player1 2024-12-10      Jinx      8       4       12  200       24500   \n",
       "1  Player2 2024-12-10     Yasuo      5       7        6  150       18000   \n",
       "3  Player3 2024-12-08  Malphite      3       6       10   90       15000   \n",
       "\n",
       "  Resultado   KDA  \n",
       "2   Vitória  5.67  \n",
       "0   Vitória  5.00  \n",
       "1   Derrota  1.57  \n",
       "3   Derrota  2.17  "
      ]
     },
     "execution_count": 34,
     "metadata": {},
     "output_type": "execute_result"
    }
   ],
   "source": [
    "damage_per_player"
   ]
  },
  {
   "cell_type": "code",
   "execution_count": 35,
   "metadata": {},
   "outputs": [
    {
     "data": {
      "image/png": "[encoded data removed]",
      "text/plain": [
       "<Figure size 1000x600 with 1 Axes>"
      ]
     },
     "metadata": {},
     "output_type": "display_data"
    }
   ],
   "source": [
    "# Supondo que 'damage_per_player' seja o DataFrame original\n",
    "damage_per_player['Data'] = pd.to_datetime(damage_per_player['Data'], errors='coerce')\n",
    "\n",
    "# Garantir que 'Dano Total' seja numérico\n",
    "damage_per_player['Dano Total'] = pd.to_numeric(damage_per_player['Dano Total'], errors='coerce')\n",
    "\n",
    "# Remover qualquer valor nulo nas colunas 'Data' e 'Dano Total'\n",
    "damage_per_player_cleaned = damage_per_player.dropna(subset=['Data', 'Dano Total'])\n",
    "\n",
    "# Ordenar os dados por jogador e data para garantir que as partidas estejam em ordem cronológica\n",
    "damage_per_player_cleaned = damage_per_player_cleaned.sort_values(by=['Jogador', 'Data'])\n",
    "\n",
    "# Encontrar a data mínima para ser a origem comum\n",
    "min_date = damage_per_player_cleaned['Data'].min()\n",
    "\n",
    "# Criar uma submatriz com a data mínima e dano 0 para todos os jogadores, com uma data -1 dia\n",
    "origin_data = pd.DataFrame({\n",
    "    'Jogador': damage_per_player_cleaned['Jogador'].unique(),\n",
    "    'Data': [min_date - pd.Timedelta(days=1)] * len(damage_per_player_cleaned['Jogador'].unique()),  # Data -1 dia\n",
    "    'Dano Total': [0] * len(damage_per_player_cleaned['Jogador'].unique())\n",
    "})\n",
    "\n",
    "# Adicionar a origem de dano 0 para cada jogador\n",
    "damage_per_player_cleaned = pd.concat([damage_per_player_cleaned, origin_data], ignore_index=True)\n",
    "\n",
    "# Reordenar os dados por jogador e data novamente\n",
    "damage_per_player_cleaned = damage_per_player_cleaned.sort_values(by=['Jogador', 'Data'])\n",
    "\n",
    "# Inicializar o gráfico\n",
    "plt.figure(figsize=(10, 6))\n",
    "\n",
    "# Iterar sobre cada jogador único\n",
    "for jogador in damage_per_player_cleaned['Jogador'].unique():\n",
    "    jogador_data = damage_per_player_cleaned[damage_per_player_cleaned['Jogador'] == jogador]\n",
    "    \n",
    "    # Inicializar a lista de danos acumulados para esse jogador, começando com 0\n",
    "    dano_acumulado = [0]  # O dano inicial é 0\n",
    "    \n",
    "    # Iterar sobre o dano total de cada partida, acumulando o valor\n",
    "    for dano in jogador_data['Dano Total']:\n",
    "        dano_acumulado.append(dano_acumulado[-1] + dano)  # Acumula o dano da partida\n",
    "    \n",
    "    # Plotar o gráfico com a linha de progresso, agora com mais precisão\n",
    "    plt.plot(jogador_data['Data'], dano_acumulado[1:], marker='o', label=jogador, linestyle='-', markersize=5)  # Linha contínua com marcadores\n",
    "\n",
    "    # Adicionar pontos com deslocamento de +0.5 unidades acima do dano\n",
    "    for i, data in enumerate(jogador_data['Data']):\n",
    "        plt.scatter(data, dano_acumulado[i + 1] + 0.5, color='red', zorder=5)  # Gerar ponto 0.5 acima do valor acumulado\n",
    "        plt.text(data, dano_acumulado[i + 1] + 0.5, f'{dano_acumulado[i + 1]}', fontsize=9, color='black', ha='center', va='bottom')\n",
    "\n",
    "# Adicionar título e rótulos aos eixos\n",
    "plt.title('Progresso do Dano Total ao Longo das Partidas', fontsize=16)\n",
    "plt.xlabel('Data', fontsize=12)\n",
    "plt.ylabel('Dano Total Progressivo', fontsize=12)\n",
    "\n",
    "# Adicionar legenda\n",
    "plt.legend(title='Jogador')\n",
    "\n",
    "# Ajustes no gráfico para melhor visualização\n",
    "plt.xticks(rotation=45)\n",
    "plt.tight_layout()\n",
    "plt.show()"
   ]
  },
  {
   "cell_type": "markdown",
   "metadata": {},
   "source": [
    "# Descobrir qual jogador tem o melhor KDA médio. \n",
    "# Ordenar os dados por Data e Resultado (Vitórias primeiro) e salvar como desempenho_ordenado.csv."
   ]
  },
  {
   "cell_type": "code",
   "execution_count": 36,
   "metadata": {},
   "outputs": [],
   "source": [
    "kda_media = performance_stats.groupby('Jogador')['KDA'].mean()"
   ]
  },
  {
   "cell_type": "code",
   "execution_count": 37,
   "metadata": {},
   "outputs": [
    {
     "data": {
      "text/plain": [
       "Jogador\n",
       "Player1    5.335\n",
       "Player2    1.570\n",
       "Player3    2.170\n",
       "Name: KDA, dtype: float64"
      ]
     },
     "execution_count": 37,
     "metadata": {},
     "output_type": "execute_result"
    }
   ],
   "source": [
    "kda_media"
   ]
  },
  {
   "cell_type": "code",
   "execution_count": 38,
   "metadata": {},
   "outputs": [
    {
     "name": "stdout",
     "output_type": "stream",
     "text": [
      "Melhor KDA médio é: Player1\n",
      "Pior KDA médio é: Player2\n"
     ]
    }
   ],
   "source": [
    "best_kda_media= kda_media.idxmax()\n",
    "worst_kda_media = kda_media.idxmin()\n",
    "\n",
    "print(f\"Melhor KDA médio é: {best_kda_media}\")\n",
    "print(f\"Pior KDA médio é: {worst_kda_media}\")\n"
   ]
  },
  {
   "cell_type": "code",
   "execution_count": 39,
   "metadata": {},
   "outputs": [],
   "source": [
    "df_ordenado = performance_stats.sort_values(by =['Resultado', 'Data'], ascending= [False, True])\n",
    "\n",
    "df_ordenado.to_excel('desempenho_ordenado.xlsx', index=False)\n"
   ]
  },
  {
   "cell_type": "markdown",
   "metadata": {},
   "source": [
    "# Desafio 2.3: Análise de Rankeds\n",
    "Contexto: Você tem um arquivo ranked_stats.csv com dados de desempenho agregado em partidas ranqueadas por função:\n",
    "\n",
    "| Função   | Partidas Jogadas | Vitórias | Derrotas | CS Médio | Dano Médio |\n",
    "|----------|------------------|----------|----------|----------|------------|\n",
    "| Top      | 50               | 30       | 20       | 150      | 25000      |\n",
    "| Jungle   | 45               | 22       | 23       | 120      | 20000      |\n",
    "| Mid      | 60               | 35       | 25       | 160      | 30000      |\n",
    "| ADC      | 55               | 33       | 22       | 170      | 28000      |\n",
    "| Suporte  | 40               | 25       | 15       | 50       | 10000      |\n",
    "\n",
    "Tarefa:\n",
    "\n",
    "    Calcular a taxa de vitória (Vitórias / Partidas Jogadas) para cada função.\n",
    "    Criar um gráfico de pizza que mostre a proporção de partidas jogadas por função.\n",
    "    Descobrir qual função tem o maior dano médio.\n",
    "    Filtrar funções com taxa de vitória acima de 55% e salvar em melhores_funcoes.csv.\n",
    "\n"
   ]
  },
  {
   "cell_type": "code",
   "execution_count": 40,
   "metadata": {},
   "outputs": [],
   "source": [
    "ranked_stats = pd.read_excel(r'.\\ranked_stats.xlsx')"
   ]
  },
  {
   "cell_type": "code",
   "execution_count": 41,
   "metadata": {},
   "outputs": [
    {
     "data": {
      "text/html": [
       "<div>\n",
       "<style scoped>\n",
       "    .dataframe tbody tr th:only-of-type {\n",
       "        vertical-align: middle;\n",
       "    }\n",
       "\n",
       "    .dataframe tbody tr th {\n",
       "        vertical-align: top;\n",
       "    }\n",
       "\n",
       "    .dataframe thead th {\n",
       "        text-align: right;\n",
       "    }\n",
       "</style>\n",
       "<table border=\"1\" class=\"dataframe\">\n",
       "  <thead>\n",
       "    <tr style=\"text-align: right;\">\n",
       "      <th></th>\n",
       "      <th>Função</th>\n",
       "      <th>Partidas Jogadas</th>\n",
       "      <th>Vitórias</th>\n",
       "      <th>Derrotas</th>\n",
       "      <th>CS Médio</th>\n",
       "      <th>Dano Médio</th>\n",
       "    </tr>\n",
       "  </thead>\n",
       "  <tbody>\n",
       "    <tr>\n",
       "      <th>0</th>\n",
       "      <td>Top</td>\n",
       "      <td>50</td>\n",
       "      <td>30</td>\n",
       "      <td>20</td>\n",
       "      <td>150</td>\n",
       "      <td>25000</td>\n",
       "    </tr>\n",
       "    <tr>\n",
       "      <th>1</th>\n",
       "      <td>Jungle</td>\n",
       "      <td>45</td>\n",
       "      <td>22</td>\n",
       "      <td>23</td>\n",
       "      <td>120</td>\n",
       "      <td>20000</td>\n",
       "    </tr>\n",
       "    <tr>\n",
       "      <th>2</th>\n",
       "      <td>Mid</td>\n",
       "      <td>60</td>\n",
       "      <td>35</td>\n",
       "      <td>25</td>\n",
       "      <td>160</td>\n",
       "      <td>30000</td>\n",
       "    </tr>\n",
       "    <tr>\n",
       "      <th>3</th>\n",
       "      <td>ADC</td>\n",
       "      <td>55</td>\n",
       "      <td>33</td>\n",
       "      <td>22</td>\n",
       "      <td>170</td>\n",
       "      <td>28000</td>\n",
       "    </tr>\n",
       "    <tr>\n",
       "      <th>4</th>\n",
       "      <td>Suporte</td>\n",
       "      <td>40</td>\n",
       "      <td>25</td>\n",
       "      <td>15</td>\n",
       "      <td>50</td>\n",
       "      <td>10000</td>\n",
       "    </tr>\n",
       "  </tbody>\n",
       "</table>\n",
       "</div>"
      ],
      "text/plain": [
       "    Função  Partidas Jogadas  Vitórias  Derrotas  CS Médio  Dano Médio\n",
       "0      Top                50        30        20       150       25000\n",
       "1   Jungle                45        22        23       120       20000\n",
       "2      Mid                60        35        25       160       30000\n",
       "3      ADC                55        33        22       170       28000\n",
       "4  Suporte                40        25        15        50       10000"
      ]
     },
     "execution_count": 41,
     "metadata": {},
     "output_type": "execute_result"
    }
   ],
   "source": [
    "ranked_stats"
   ]
  },
  {
   "cell_type": "code",
   "execution_count": 42,
   "metadata": {},
   "outputs": [],
   "source": [
    "ranked_stats['Taxa de Vitória (%)'] = round((ranked_stats['Vitórias'] / ranked_stats['Partidas Jogadas']) * 100, 1)"
   ]
  },
  {
   "cell_type": "code",
   "execution_count": 43,
   "metadata": {},
   "outputs": [
    {
     "data": {
      "text/html": [
       "<div>\n",
       "<style scoped>\n",
       "    .dataframe tbody tr th:only-of-type {\n",
       "        vertical-align: middle;\n",
       "    }\n",
       "\n",
       "    .dataframe tbody tr th {\n",
       "        vertical-align: top;\n",
       "    }\n",
       "\n",
       "    .dataframe thead th {\n",
       "        text-align: right;\n",
       "    }\n",
       "</style>\n",
       "<table border=\"1\" class=\"dataframe\">\n",
       "  <thead>\n",
       "    <tr style=\"text-align: right;\">\n",
       "      <th></th>\n",
       "      <th>Função</th>\n",
       "      <th>Partidas Jogadas</th>\n",
       "      <th>Vitórias</th>\n",
       "      <th>Derrotas</th>\n",
       "      <th>CS Médio</th>\n",
       "      <th>Dano Médio</th>\n",
       "      <th>Taxa de Vitória (%)</th>\n",
       "    </tr>\n",
       "  </thead>\n",
       "  <tbody>\n",
       "    <tr>\n",
       "      <th>0</th>\n",
       "      <td>Top</td>\n",
       "      <td>50</td>\n",
       "      <td>30</td>\n",
       "      <td>20</td>\n",
       "      <td>150</td>\n",
       "      <td>25000</td>\n",
       "      <td>60.0</td>\n",
       "    </tr>\n",
       "    <tr>\n",
       "      <th>1</th>\n",
       "      <td>Jungle</td>\n",
       "      <td>45</td>\n",
       "      <td>22</td>\n",
       "      <td>23</td>\n",
       "      <td>120</td>\n",
       "      <td>20000</td>\n",
       "      <td>48.9</td>\n",
       "    </tr>\n",
       "    <tr>\n",
       "      <th>2</th>\n",
       "      <td>Mid</td>\n",
       "      <td>60</td>\n",
       "      <td>35</td>\n",
       "      <td>25</td>\n",
       "      <td>160</td>\n",
       "      <td>30000</td>\n",
       "      <td>58.3</td>\n",
       "    </tr>\n",
       "    <tr>\n",
       "      <th>3</th>\n",
       "      <td>ADC</td>\n",
       "      <td>55</td>\n",
       "      <td>33</td>\n",
       "      <td>22</td>\n",
       "      <td>170</td>\n",
       "      <td>28000</td>\n",
       "      <td>60.0</td>\n",
       "    </tr>\n",
       "    <tr>\n",
       "      <th>4</th>\n",
       "      <td>Suporte</td>\n",
       "      <td>40</td>\n",
       "      <td>25</td>\n",
       "      <td>15</td>\n",
       "      <td>50</td>\n",
       "      <td>10000</td>\n",
       "      <td>62.5</td>\n",
       "    </tr>\n",
       "  </tbody>\n",
       "</table>\n",
       "</div>"
      ],
      "text/plain": [
       "    Função  Partidas Jogadas  Vitórias  Derrotas  CS Médio  Dano Médio  \\\n",
       "0      Top                50        30        20       150       25000   \n",
       "1   Jungle                45        22        23       120       20000   \n",
       "2      Mid                60        35        25       160       30000   \n",
       "3      ADC                55        33        22       170       28000   \n",
       "4  Suporte                40        25        15        50       10000   \n",
       "\n",
       "   Taxa de Vitória (%)  \n",
       "0                 60.0  \n",
       "1                 48.9  \n",
       "2                 58.3  \n",
       "3                 60.0  \n",
       "4                 62.5  "
      ]
     },
     "execution_count": 43,
     "metadata": {},
     "output_type": "execute_result"
    }
   ],
   "source": [
    "ranked_stats"
   ]
  },
  {
   "cell_type": "markdown",
   "metadata": {},
   "source": [
    "# Gráfico de Pizza"
   ]
  },
  {
   "cell_type": "code",
   "execution_count": 44,
   "metadata": {},
   "outputs": [],
   "source": [
    "games_statistics = ranked_stats.groupby('Função')['Partidas Jogadas'].mean()"
   ]
  },
  {
   "cell_type": "code",
   "execution_count": 45,
   "metadata": {},
   "outputs": [
    {
     "data": {
      "text/plain": [
       "Função\n",
       "ADC        55.0\n",
       "Jungle     45.0\n",
       "Mid        60.0\n",
       "Suporte    40.0\n",
       "Top        50.0\n",
       "Name: Partidas Jogadas, dtype: float64"
      ]
     },
     "execution_count": 45,
     "metadata": {},
     "output_type": "execute_result"
    }
   ],
   "source": [
    "games_statistics"
   ]
  },
  {
   "cell_type": "code",
   "execution_count": 46,
   "metadata": {},
   "outputs": [
    {
     "data": {
      "image/png": "[encoded data removed]",
      "text/plain": [
       "<Figure size 1600x800 with 1 Axes>"
      ]
     },
     "metadata": {},
     "output_type": "display_data"
    }
   ],
   "source": [
    "funcoes = games_statistics.index  # Índices (Funções)\n",
    "partidas = games_statistics.values  # Valores (Partidas Jogadas)\n",
    "\n",
    "plt.figure(figsize=(16, 8))\n",
    "plt.pie(partidas, labels=funcoes, autopct='%1.1f%%', startangle=140, colors=plt.cm.tab10.colors)\n",
    "\n",
    "# Configurações adicionais\n",
    "plt.title('Proporção de Partidas Jogadas por Função', fontsize=16)\n",
    "plt.axis('equal')  # Garantir que o gráfico seja um círculo\n",
    "plt.show()"
   ]
  },
  {
   "cell_type": "markdown",
   "metadata": {},
   "source": [
    "# Descobrir qual função tem o maior dano médio.\n",
    "    "
   ]
  },
  {
   "cell_type": "code",
   "execution_count": 56,
   "metadata": {},
   "outputs": [],
   "source": [
    "damage_func = ranked_stats.groupby('Função')['Dano Médio'].mean()"
   ]
  },
  {
   "cell_type": "code",
   "execution_count": 57,
   "metadata": {},
   "outputs": [
    {
     "data": {
      "text/plain": [
       "Função\n",
       "ADC        28000.0\n",
       "Jungle     20000.0\n",
       "Mid        30000.0\n",
       "Suporte    10000.0\n",
       "Top        25000.0\n",
       "Name: Dano Médio, dtype: float64"
      ]
     },
     "execution_count": 57,
     "metadata": {},
     "output_type": "execute_result"
    }
   ],
   "source": [
    "damage_func"
   ]
  },
  {
   "cell_type": "code",
   "execution_count": 61,
   "metadata": {},
   "outputs": [],
   "source": [
    "greatest_damage_func = damage_func.idxmax()\n",
    "greatest_damage_value = damage_func.max()\n",
    "\n",
    "smallest_damage_func = damage_func.idxmin()\n",
    "smallest_damage_value = damage_func.min()"
   ]
  },
  {
   "cell_type": "code",
   "execution_count": 62,
   "metadata": {},
   "outputs": [
    {
     "name": "stdout",
     "output_type": "stream",
     "text": [
      "The function that does the greatest amount of damage is Mid which is 30000.0\n",
      "The function that does the smallest amount of damage is Suporte which is 10000.0\n"
     ]
    }
   ],
   "source": [
    "print(f\"The function that does the greatest amount of damage is {greatest_damage_func} which is {greatest_damage_value}\")\n",
    "print(f\"The function that does the smallest amount of damage is {smallest_damage_func} which is {smallest_damage_value}\")"
   ]
  },
  {
   "cell_type": "markdown",
   "metadata": {},
   "source": [
    "#     Filtrar funções com taxa de vitória acima de 55% e salvar em melhores_funcoes.csv.\n"
   ]
  },
  {
   "cell_type": "code",
   "execution_count": 66,
   "metadata": {},
   "outputs": [],
   "source": [
    "winrate_above_55 = ranked_stats[ranked_stats['Taxa de Vitória (%)'] >= 55]"
   ]
  },
  {
   "cell_type": "code",
   "execution_count": 67,
   "metadata": {},
   "outputs": [
    {
     "data": {
      "text/html": [
       "<div>\n",
       "<style scoped>\n",
       "    .dataframe tbody tr th:only-of-type {\n",
       "        vertical-align: middle;\n",
       "    }\n",
       "\n",
       "    .dataframe tbody tr th {\n",
       "        vertical-align: top;\n",
       "    }\n",
       "\n",
       "    .dataframe thead th {\n",
       "        text-align: right;\n",
       "    }\n",
       "</style>\n",
       "<table border=\"1\" class=\"dataframe\">\n",
       "  <thead>\n",
       "    <tr style=\"text-align: right;\">\n",
       "      <th></th>\n",
       "      <th>Função</th>\n",
       "      <th>Partidas Jogadas</th>\n",
       "      <th>Vitórias</th>\n",
       "      <th>Derrotas</th>\n",
       "      <th>CS Médio</th>\n",
       "      <th>Dano Médio</th>\n",
       "      <th>Taxa de Vitória (%)</th>\n",
       "    </tr>\n",
       "  </thead>\n",
       "  <tbody>\n",
       "    <tr>\n",
       "      <th>0</th>\n",
       "      <td>Top</td>\n",
       "      <td>50</td>\n",
       "      <td>30</td>\n",
       "      <td>20</td>\n",
       "      <td>150</td>\n",
       "      <td>25000</td>\n",
       "      <td>60.0</td>\n",
       "    </tr>\n",
       "    <tr>\n",
       "      <th>2</th>\n",
       "      <td>Mid</td>\n",
       "      <td>60</td>\n",
       "      <td>35</td>\n",
       "      <td>25</td>\n",
       "      <td>160</td>\n",
       "      <td>30000</td>\n",
       "      <td>58.3</td>\n",
       "    </tr>\n",
       "    <tr>\n",
       "      <th>3</th>\n",
       "      <td>ADC</td>\n",
       "      <td>55</td>\n",
       "      <td>33</td>\n",
       "      <td>22</td>\n",
       "      <td>170</td>\n",
       "      <td>28000</td>\n",
       "      <td>60.0</td>\n",
       "    </tr>\n",
       "    <tr>\n",
       "      <th>4</th>\n",
       "      <td>Suporte</td>\n",
       "      <td>40</td>\n",
       "      <td>25</td>\n",
       "      <td>15</td>\n",
       "      <td>50</td>\n",
       "      <td>10000</td>\n",
       "      <td>62.5</td>\n",
       "    </tr>\n",
       "  </tbody>\n",
       "</table>\n",
       "</div>"
      ],
      "text/plain": [
       "    Função  Partidas Jogadas  Vitórias  Derrotas  CS Médio  Dano Médio  \\\n",
       "0      Top                50        30        20       150       25000   \n",
       "2      Mid                60        35        25       160       30000   \n",
       "3      ADC                55        33        22       170       28000   \n",
       "4  Suporte                40        25        15        50       10000   \n",
       "\n",
       "   Taxa de Vitória (%)  \n",
       "0                 60.0  \n",
       "2                 58.3  \n",
       "3                 60.0  \n",
       "4                 62.5  "
      ]
     },
     "execution_count": 67,
     "metadata": {},
     "output_type": "execute_result"
    }
   ],
   "source": [
    "winrate_above_55"
   ]
  },
  {
   "cell_type": "code",
   "execution_count": 69,
   "metadata": {},
   "outputs": [],
   "source": [
    "output_file_3 = 'melhores_funcoes.xlsx'\n",
    "\n",
    "winrate_above_55.to_excel(output_file_3, index= False)"
   ]
  },
  {
   "cell_type": "markdown",
   "metadata": {},
   "source": [
    "# Desafio 4: Análise de Campeões Jogados\n",
    "Contexto: Você está interessado em saber como a frequência de campeões jogados varia ao longo do tempo. Você tem um arquivo campeoes_jogados.csv com dados semanais:\n",
    "\n",
    "| Semana       | Jinx | Yasuo | Amumu | Malphite | Total |\n",
    "|--------------|------|-------|-------|----------|-------|\n",
    "| 2024-12-01   | 20   | 15    | 5     | 10       | 50    |\n",
    "| 2024-12-08   | 30   | 10    | 8     | 12       | 60    |\n",
    "| 2024-12-15   | 25   | 20    | 10    | 15       | 70    |\n",
    "\n",
    "\n",
    "Tarefa:\n",
    "\n",
    "    Calcular a média semanal de jogos por campeão.\n",
    "    Criar um gráfico de linha para cada campeão mostrando a variação semanal.\n",
    "    Descobrir qual campeão teve o maior aumento percentual em jogos de uma semana para a outra.\n",
    "    Adicionar uma coluna \"Proporção\" que mostre a porcentagem de jogos de cada campeão em relação ao total da semana."
   ]
  },
  {
   "cell_type": "code",
   "execution_count": 70,
   "metadata": {},
   "outputs": [],
   "source": [
    "played_champions = pd.read_excel('campeoes_jogados.xlsx')"
   ]
  },
  {
   "cell_type": "code",
   "execution_count": 71,
   "metadata": {},
   "outputs": [
    {
     "data": {
      "text/html": [
       "<div>\n",
       "<style scoped>\n",
       "    .dataframe tbody tr th:only-of-type {\n",
       "        vertical-align: middle;\n",
       "    }\n",
       "\n",
       "    .dataframe tbody tr th {\n",
       "        vertical-align: top;\n",
       "    }\n",
       "\n",
       "    .dataframe thead th {\n",
       "        text-align: right;\n",
       "    }\n",
       "</style>\n",
       "<table border=\"1\" class=\"dataframe\">\n",
       "  <thead>\n",
       "    <tr style=\"text-align: right;\">\n",
       "      <th></th>\n",
       "      <th>Semana</th>\n",
       "      <th>Jinx</th>\n",
       "      <th>Yasuo</th>\n",
       "      <th>Amumu</th>\n",
       "      <th>Malphite</th>\n",
       "      <th>Total</th>\n",
       "    </tr>\n",
       "  </thead>\n",
       "  <tbody>\n",
       "    <tr>\n",
       "      <th>0</th>\n",
       "      <td>2024-12-01</td>\n",
       "      <td>20</td>\n",
       "      <td>15</td>\n",
       "      <td>5</td>\n",
       "      <td>10</td>\n",
       "      <td>50</td>\n",
       "    </tr>\n",
       "    <tr>\n",
       "      <th>1</th>\n",
       "      <td>2024-12-08</td>\n",
       "      <td>30</td>\n",
       "      <td>10</td>\n",
       "      <td>8</td>\n",
       "      <td>12</td>\n",
       "      <td>60</td>\n",
       "    </tr>\n",
       "    <tr>\n",
       "      <th>2</th>\n",
       "      <td>2024-12-15</td>\n",
       "      <td>25</td>\n",
       "      <td>20</td>\n",
       "      <td>10</td>\n",
       "      <td>15</td>\n",
       "      <td>70</td>\n",
       "    </tr>\n",
       "  </tbody>\n",
       "</table>\n",
       "</div>"
      ],
      "text/plain": [
       "      Semana  Jinx  Yasuo  Amumu  Malphite  Total\n",
       "0 2024-12-01    20     15      5        10     50\n",
       "1 2024-12-08    30     10      8        12     60\n",
       "2 2024-12-15    25     20     10        15     70"
      ]
     },
     "execution_count": 71,
     "metadata": {},
     "output_type": "execute_result"
    }
   ],
   "source": [
    "played_champions"
   ]
  },
  {
   "cell_type": "code",
   "execution_count": 77,
   "metadata": {},
   "outputs": [],
   "source": [
    "mean_weekly =  played_champions.drop(columns = ['Semana']).mean().round(2)"
   ]
  },
  {
   "cell_type": "code",
   "execution_count": 78,
   "metadata": {},
   "outputs": [
    {
     "data": {
      "text/plain": [
       "Jinx        25.00\n",
       "Yasuo       15.00\n",
       "Amumu        7.67\n",
       "Malphite    12.33\n",
       "Total       60.00\n",
       "dtype: float64"
      ]
     },
     "execution_count": 78,
     "metadata": {},
     "output_type": "execute_result"
    }
   ],
   "source": [
    "mean_weekly"
   ]
  },
  {
   "cell_type": "code",
   "execution_count": 80,
   "metadata": {},
   "outputs": [
    {
     "data": {
      "image/png": "[encoded data removed]",
      "text/plain": [
       "<Figure size 1000x600 with 1 Axes>"
      ]
     },
     "metadata": {},
     "output_type": "display_data"
    }
   ],
   "source": [
    "from datetime import timedelta\n",
    "\n",
    "played_champions[\"Semana\"] = pd.to_datetime(played_champions[\"Semana\"])\n",
    "\n",
    "# Adicionar um ponto inicial: Data mínima - 1 dia\n",
    "data_min = played_champions[\"Semana\"].min() - timedelta(days=1)\n",
    "new_row = pd.Series({\"Semana\": data_min, \"Jinx\": 0, \"Yasuo\": 0, \"Amumu\": 0, \"Malphite\": 0, \"Total\": 0})\n",
    "played_champions = pd.concat([pd.DataFrame([new_row]), played_champions], ignore_index=True)\n",
    "\n",
    "# Criar gráfico de linha\n",
    "plt.figure(figsize=(10, 6))\n",
    "\n",
    "# Iterar sobre os campeões (colunas, excluindo 'Semana' e 'Total')\n",
    "for champion in played_champions.columns[1:-1]:\n",
    "    plt.plot(played_champions[\"Semana\"], played_champions[champion], marker=\"o\", label=champion)\n",
    "\n",
    "# Adicionar título e rótulos\n",
    "plt.title(\"Variação Semanal de Campeões Jogados\", fontsize=16)\n",
    "plt.xlabel(\"Semana\", fontsize=12)\n",
    "plt.ylabel(\"Jogos\", fontsize=12)\n",
    "\n",
    "# Ajustar datas no eixo X\n",
    "plt.xticks(rotation=45)\n",
    "\n",
    "# Adicionar legenda\n",
    "plt.legend(title=\"Campeões\")\n",
    "\n",
    "# Mostrar o gráfico\n",
    "plt.tight_layout()\n",
    "plt.show()"
   ]
  },
  {
   "cell_type": "code",
   "execution_count": null,
   "metadata": {},
   "outputs": [],
   "source": []
  }
 ],
 "metadata": {
  "kernelspec": {
   "display_name": "Python 3",
   "language": "python",
   "name": "python3"
  },
  "language_info": {
   "codemirror_mode": {
    "name": "ipython",
    "version": 3
   },
   "file_extension": ".py",
   "mimetype": "text/x-python",
   "name": "python",
   "nbconvert_exporter": "python",
   "pygments_lexer": "ipython3",
   "version": "3.11.2"
  }
 },
 "nbformat": 4,
 "nbformat_minor": 2
}
