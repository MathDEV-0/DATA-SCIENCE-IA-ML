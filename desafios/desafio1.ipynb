{
 "cells": [
  {
   "cell_type": "markdown",
   "metadata": {},
   "source": [
    "# DESAFIO 1\n",
    "    # Tarefas\n",
    "    Carregar os dados:\n",
    "\n",
    "    Simule os dados em um DataFrame Pandas ou leia de um arquivo CSV.\n",
    "    Calcular o total de vendas por produto:\n",
    "\n",
    "    Multiplique a quantidade vendida pelo preço unitário e adicione uma nova coluna Total de Vendas.\n",
    "    Agrupar por categoria:\n",
    "\n",
    "    Descubra o total de vendas por categoria.\n",
    "    Produto mais vendido:\n",
    "\n",
    "    Identifique o produto com maior quantidade vendida.\n",
    "    Filtrar vendas recentes:\n",
    "\n",
    "    Liste apenas as vendas que ocorreram a partir de \"2024-12-02\".\n",
    "    Ordenar por lucro:\n",
    "\n",
    "    Ordene os produtos pelo total de vendas (coluna Total de Vendas) de forma decrescente.\n",
    "    Salvar o resultado:\n",
    "\n",
    "    Salve o DataFrame final em um novo arquivo chamado relatorio_vendas.csv."
   ]
  },
  {
   "cell_type": "code",
   "execution_count": 23,
   "metadata": {},
   "outputs": [],
   "source": [
    "import pandas as pd"
   ]
  },
  {
   "cell_type": "code",
   "execution_count": 24,
   "metadata": {},
   "outputs": [],
   "source": [
    "df = pd.read_excel('.\\DESAFIO1.xlsx')"
   ]
  },
  {
   "cell_type": "code",
   "execution_count": 25,
   "metadata": {},
   "outputs": [
    {
     "data": {
      "text/html": [
       "<div>\n",
       "<style scoped>\n",
       "    .dataframe tbody tr th:only-of-type {\n",
       "        vertical-align: middle;\n",
       "    }\n",
       "\n",
       "    .dataframe tbody tr th {\n",
       "        vertical-align: top;\n",
       "    }\n",
       "\n",
       "    .dataframe thead th {\n",
       "        text-align: right;\n",
       "    }\n",
       "</style>\n",
       "<table border=\"1\" class=\"dataframe\">\n",
       "  <thead>\n",
       "    <tr style=\"text-align: right;\">\n",
       "      <th></th>\n",
       "      <th>Produto</th>\n",
       "      <th>Categoria</th>\n",
       "      <th>Data da Venda</th>\n",
       "      <th>Quantidade Vendida</th>\n",
       "      <th>Preço Unitário</th>\n",
       "    </tr>\n",
       "  </thead>\n",
       "  <tbody>\n",
       "    <tr>\n",
       "      <th>0</th>\n",
       "      <td>Produto A</td>\n",
       "      <td>Eletrônicos</td>\n",
       "      <td>2024-12-01</td>\n",
       "      <td>3</td>\n",
       "      <td>200.0</td>\n",
       "    </tr>\n",
       "    <tr>\n",
       "      <th>1</th>\n",
       "      <td>Produto B</td>\n",
       "      <td>Vestuário</td>\n",
       "      <td>2024-12-02</td>\n",
       "      <td>5</td>\n",
       "      <td>50.0</td>\n",
       "    </tr>\n",
       "    <tr>\n",
       "      <th>2</th>\n",
       "      <td>Produto C</td>\n",
       "      <td>Eletrônicos</td>\n",
       "      <td>2024-12-01</td>\n",
       "      <td>2</td>\n",
       "      <td>150.0</td>\n",
       "    </tr>\n",
       "    <tr>\n",
       "      <th>3</th>\n",
       "      <td>Produto D</td>\n",
       "      <td>Alimentos</td>\n",
       "      <td>2024-12-03</td>\n",
       "      <td>10</td>\n",
       "      <td>10.0</td>\n",
       "    </tr>\n",
       "    <tr>\n",
       "      <th>4</th>\n",
       "      <td>Produto E</td>\n",
       "      <td>Vestuário</td>\n",
       "      <td>2024-12-03</td>\n",
       "      <td>7</td>\n",
       "      <td>80.0</td>\n",
       "    </tr>\n",
       "  </tbody>\n",
       "</table>\n",
       "</div>"
      ],
      "text/plain": [
       "     Produto    Categoria Data da Venda  Quantidade Vendida  Preço Unitário\n",
       "0  Produto A  Eletrônicos    2024-12-01                   3           200.0\n",
       "1  Produto B    Vestuário    2024-12-02                   5            50.0\n",
       "2  Produto C  Eletrônicos    2024-12-01                   2           150.0\n",
       "3  Produto D    Alimentos    2024-12-03                  10            10.0\n",
       "4  Produto E    Vestuário    2024-12-03                   7            80.0"
      ]
     },
     "execution_count": 25,
     "metadata": {},
     "output_type": "execute_result"
    }
   ],
   "source": [
    "df"
   ]
  },
  {
   "cell_type": "code",
   "execution_count": 26,
   "metadata": {},
   "outputs": [],
   "source": [
    "df['Total de Vendas']= df['Preço Unitário'] * df['Quantidade Vendida']"
   ]
  },
  {
   "cell_type": "code",
   "execution_count": 27,
   "metadata": {},
   "outputs": [
    {
     "data": {
      "text/html": [
       "<div>\n",
       "<style scoped>\n",
       "    .dataframe tbody tr th:only-of-type {\n",
       "        vertical-align: middle;\n",
       "    }\n",
       "\n",
       "    .dataframe tbody tr th {\n",
       "        vertical-align: top;\n",
       "    }\n",
       "\n",
       "    .dataframe thead th {\n",
       "        text-align: right;\n",
       "    }\n",
       "</style>\n",
       "<table border=\"1\" class=\"dataframe\">\n",
       "  <thead>\n",
       "    <tr style=\"text-align: right;\">\n",
       "      <th></th>\n",
       "      <th>Produto</th>\n",
       "      <th>Categoria</th>\n",
       "      <th>Data da Venda</th>\n",
       "      <th>Quantidade Vendida</th>\n",
       "      <th>Preço Unitário</th>\n",
       "      <th>Total de Vendas</th>\n",
       "    </tr>\n",
       "  </thead>\n",
       "  <tbody>\n",
       "    <tr>\n",
       "      <th>0</th>\n",
       "      <td>Produto A</td>\n",
       "      <td>Eletrônicos</td>\n",
       "      <td>2024-12-01</td>\n",
       "      <td>3</td>\n",
       "      <td>200.0</td>\n",
       "      <td>600.0</td>\n",
       "    </tr>\n",
       "    <tr>\n",
       "      <th>1</th>\n",
       "      <td>Produto B</td>\n",
       "      <td>Vestuário</td>\n",
       "      <td>2024-12-02</td>\n",
       "      <td>5</td>\n",
       "      <td>50.0</td>\n",
       "      <td>250.0</td>\n",
       "    </tr>\n",
       "    <tr>\n",
       "      <th>2</th>\n",
       "      <td>Produto C</td>\n",
       "      <td>Eletrônicos</td>\n",
       "      <td>2024-12-01</td>\n",
       "      <td>2</td>\n",
       "      <td>150.0</td>\n",
       "      <td>300.0</td>\n",
       "    </tr>\n",
       "    <tr>\n",
       "      <th>3</th>\n",
       "      <td>Produto D</td>\n",
       "      <td>Alimentos</td>\n",
       "      <td>2024-12-03</td>\n",
       "      <td>10</td>\n",
       "      <td>10.0</td>\n",
       "      <td>100.0</td>\n",
       "    </tr>\n",
       "    <tr>\n",
       "      <th>4</th>\n",
       "      <td>Produto E</td>\n",
       "      <td>Vestuário</td>\n",
       "      <td>2024-12-03</td>\n",
       "      <td>7</td>\n",
       "      <td>80.0</td>\n",
       "      <td>560.0</td>\n",
       "    </tr>\n",
       "  </tbody>\n",
       "</table>\n",
       "</div>"
      ],
      "text/plain": [
       "     Produto    Categoria Data da Venda  Quantidade Vendida  Preço Unitário  \\\n",
       "0  Produto A  Eletrônicos    2024-12-01                   3           200.0   \n",
       "1  Produto B    Vestuário    2024-12-02                   5            50.0   \n",
       "2  Produto C  Eletrônicos    2024-12-01                   2           150.0   \n",
       "3  Produto D    Alimentos    2024-12-03                  10            10.0   \n",
       "4  Produto E    Vestuário    2024-12-03                   7            80.0   \n",
       "\n",
       "   Total de Vendas  \n",
       "0            600.0  \n",
       "1            250.0  \n",
       "2            300.0  \n",
       "3            100.0  \n",
       "4            560.0  "
      ]
     },
     "execution_count": 27,
     "metadata": {},
     "output_type": "execute_result"
    }
   ],
   "source": [
    "df"
   ]
  },
  {
   "cell_type": "markdown",
   "metadata": {},
   "source": [
    "# Vendas por Categoria"
   ]
  },
  {
   "cell_type": "code",
   "execution_count": 28,
   "metadata": {},
   "outputs": [],
   "source": [
    "total_vendas_categoria = df.groupby('Categoria')['Total de Vendas'].sum()"
   ]
  },
  {
   "cell_type": "code",
   "execution_count": 29,
   "metadata": {},
   "outputs": [
    {
     "data": {
      "text/plain": [
       "Categoria\n",
       "Alimentos      100.0\n",
       "Eletrônicos    900.0\n",
       "Vestuário      810.0\n",
       "Name: Total de Vendas, dtype: float64"
      ]
     },
     "execution_count": 29,
     "metadata": {},
     "output_type": "execute_result"
    }
   ],
   "source": [
    "total_vendas_categoria"
   ]
  },
  {
   "cell_type": "markdown",
   "metadata": {},
   "source": [
    "# Produto mais vendido"
   ]
  },
  {
   "cell_type": "code",
   "execution_count": 30,
   "metadata": {},
   "outputs": [],
   "source": [
    "produto_mais_vendido = df.groupby('Produto')['Quantidade Vendida'].sum()"
   ]
  },
  {
   "cell_type": "code",
   "execution_count": 31,
   "metadata": {},
   "outputs": [],
   "source": [
    "produto_mais_vendido= produto_mais_vendido.idxmax()"
   ]
  },
  {
   "cell_type": "code",
   "execution_count": 32,
   "metadata": {},
   "outputs": [
    {
     "name": "stdout",
     "output_type": "stream",
     "text": [
      "O produto mais vendido é: Produto D\n"
     ]
    }
   ],
   "source": [
    "print(f'O produto mais vendido é: {produto_mais_vendido}')"
   ]
  },
  {
   "cell_type": "markdown",
   "metadata": {},
   "source": [
    "# Vendas mais Recentes"
   ]
  },
  {
   "cell_type": "code",
   "execution_count": 33,
   "metadata": {},
   "outputs": [
    {
     "name": "stdout",
     "output_type": "stream",
     "text": [
      "Vendas mais recentes:\n",
      "     Produto    Categoria Data da Venda  Quantidade Vendida  Preço Unitário  \\\n",
      "0  Produto A  Eletrônicos    2024-12-01                   3           200.0   \n",
      "1  Produto B    Vestuário    2024-12-02                   5            50.0   \n",
      "2  Produto C  Eletrônicos    2024-12-01                   2           150.0   \n",
      "3  Produto D    Alimentos    2024-12-03                  10            10.0   \n",
      "4  Produto E    Vestuário    2024-12-03                   7            80.0   \n",
      "\n",
      "   Total de Vendas  \n",
      "0            600.0  \n",
      "1            250.0  \n",
      "2            300.0  \n",
      "3            100.0  \n",
      "4            560.0  \n"
     ]
    }
   ],
   "source": [
    "df['Data da Venda']= pd.to_datetime(df['Data da Venda'])\n",
    "\n",
    "vendas_recentes = df[df['Data da Venda']>= '24-12-02']\n",
    "\n",
    "print(f'Vendas mais recentes:\\n{vendas_recentes}')"
   ]
  },
  {
   "cell_type": "markdown",
   "metadata": {},
   "source": [
    "# Ordenar por Produtos de Maior Lucro"
   ]
  },
  {
   "cell_type": "code",
   "execution_count": 38,
   "metadata": {},
   "outputs": [],
   "source": [
    "df['Data da Venda'] = pd.to_datetime(df['Data da Venda'])\n",
    "\n",
    "# Formatar a data para o formato 'dd/mm/yyyy'\n",
    "df['Data da Venda'] = df['Data da Venda'].dt.strftime('%d/%m/%Y')\n",
    "\n",
    "df_ordenado = df.sort_values('Total de Vendas', ascending=False)\n"
   ]
  },
  {
   "cell_type": "code",
   "execution_count": 39,
   "metadata": {},
   "outputs": [
    {
     "data": {
      "text/html": [
       "<div>\n",
       "<style scoped>\n",
       "    .dataframe tbody tr th:only-of-type {\n",
       "        vertical-align: middle;\n",
       "    }\n",
       "\n",
       "    .dataframe tbody tr th {\n",
       "        vertical-align: top;\n",
       "    }\n",
       "\n",
       "    .dataframe thead th {\n",
       "        text-align: right;\n",
       "    }\n",
       "</style>\n",
       "<table border=\"1\" class=\"dataframe\">\n",
       "  <thead>\n",
       "    <tr style=\"text-align: right;\">\n",
       "      <th></th>\n",
       "      <th>Produto</th>\n",
       "      <th>Total de Vendas</th>\n",
       "    </tr>\n",
       "  </thead>\n",
       "  <tbody>\n",
       "    <tr>\n",
       "      <th>0</th>\n",
       "      <td>Produto A</td>\n",
       "      <td>600.0</td>\n",
       "    </tr>\n",
       "    <tr>\n",
       "      <th>4</th>\n",
       "      <td>Produto E</td>\n",
       "      <td>560.0</td>\n",
       "    </tr>\n",
       "    <tr>\n",
       "      <th>2</th>\n",
       "      <td>Produto C</td>\n",
       "      <td>300.0</td>\n",
       "    </tr>\n",
       "    <tr>\n",
       "      <th>1</th>\n",
       "      <td>Produto B</td>\n",
       "      <td>250.0</td>\n",
       "    </tr>\n",
       "    <tr>\n",
       "      <th>3</th>\n",
       "      <td>Produto D</td>\n",
       "      <td>100.0</td>\n",
       "    </tr>\n",
       "  </tbody>\n",
       "</table>\n",
       "</div>"
      ],
      "text/plain": [
       "     Produto  Total de Vendas\n",
       "0  Produto A            600.0\n",
       "4  Produto E            560.0\n",
       "2  Produto C            300.0\n",
       "1  Produto B            250.0\n",
       "3  Produto D            100.0"
      ]
     },
     "execution_count": 39,
     "metadata": {},
     "output_type": "execute_result"
    }
   ],
   "source": [
    "df_ordenado[['Produto','Total de Vendas']]"
   ]
  },
  {
   "cell_type": "code",
   "execution_count": 40,
   "metadata": {},
   "outputs": [
    {
     "data": {
      "text/html": [
       "<div>\n",
       "<style scoped>\n",
       "    .dataframe tbody tr th:only-of-type {\n",
       "        vertical-align: middle;\n",
       "    }\n",
       "\n",
       "    .dataframe tbody tr th {\n",
       "        vertical-align: top;\n",
       "    }\n",
       "\n",
       "    .dataframe thead th {\n",
       "        text-align: right;\n",
       "    }\n",
       "</style>\n",
       "<table border=\"1\" class=\"dataframe\">\n",
       "  <thead>\n",
       "    <tr style=\"text-align: right;\">\n",
       "      <th></th>\n",
       "      <th>Produto</th>\n",
       "      <th>Categoria</th>\n",
       "      <th>Data da Venda</th>\n",
       "      <th>Quantidade Vendida</th>\n",
       "      <th>Preço Unitário</th>\n",
       "      <th>Total de Vendas</th>\n",
       "    </tr>\n",
       "  </thead>\n",
       "  <tbody>\n",
       "    <tr>\n",
       "      <th>0</th>\n",
       "      <td>Produto A</td>\n",
       "      <td>Eletrônicos</td>\n",
       "      <td>01/12/2024</td>\n",
       "      <td>3</td>\n",
       "      <td>200.0</td>\n",
       "      <td>600.0</td>\n",
       "    </tr>\n",
       "    <tr>\n",
       "      <th>4</th>\n",
       "      <td>Produto E</td>\n",
       "      <td>Vestuário</td>\n",
       "      <td>03/12/2024</td>\n",
       "      <td>7</td>\n",
       "      <td>80.0</td>\n",
       "      <td>560.0</td>\n",
       "    </tr>\n",
       "    <tr>\n",
       "      <th>2</th>\n",
       "      <td>Produto C</td>\n",
       "      <td>Eletrônicos</td>\n",
       "      <td>01/12/2024</td>\n",
       "      <td>2</td>\n",
       "      <td>150.0</td>\n",
       "      <td>300.0</td>\n",
       "    </tr>\n",
       "    <tr>\n",
       "      <th>1</th>\n",
       "      <td>Produto B</td>\n",
       "      <td>Vestuário</td>\n",
       "      <td>02/12/2024</td>\n",
       "      <td>5</td>\n",
       "      <td>50.0</td>\n",
       "      <td>250.0</td>\n",
       "    </tr>\n",
       "    <tr>\n",
       "      <th>3</th>\n",
       "      <td>Produto D</td>\n",
       "      <td>Alimentos</td>\n",
       "      <td>03/12/2024</td>\n",
       "      <td>10</td>\n",
       "      <td>10.0</td>\n",
       "      <td>100.0</td>\n",
       "    </tr>\n",
       "  </tbody>\n",
       "</table>\n",
       "</div>"
      ],
      "text/plain": [
       "     Produto    Categoria Data da Venda  Quantidade Vendida  Preço Unitário  \\\n",
       "0  Produto A  Eletrônicos    01/12/2024                   3           200.0   \n",
       "4  Produto E    Vestuário    03/12/2024                   7            80.0   \n",
       "2  Produto C  Eletrônicos    01/12/2024                   2           150.0   \n",
       "1  Produto B    Vestuário    02/12/2024                   5            50.0   \n",
       "3  Produto D    Alimentos    03/12/2024                  10            10.0   \n",
       "\n",
       "   Total de Vendas  \n",
       "0            600.0  \n",
       "4            560.0  \n",
       "2            300.0  \n",
       "1            250.0  \n",
       "3            100.0  "
      ]
     },
     "execution_count": 40,
     "metadata": {},
     "output_type": "execute_result"
    }
   ],
   "source": [
    "df_ordenado"
   ]
  },
  {
   "cell_type": "code",
   "execution_count": 41,
   "metadata": {},
   "outputs": [
    {
     "name": "stdout",
     "output_type": "stream",
     "text": [
      "DESAFIO 1 SALVO EM tabela_ordenada.xlsx\n"
     ]
    }
   ],
   "source": [
    "output_file= 'tabela_ordenada.xlsx'\n",
    "df.to_excel(output_file,index= False)\n",
    "\n",
    "print(f\"DESAFIO 1 SALVO EM {output_file}\")"
   ]
  }
 ],
 "metadata": {
  "kernelspec": {
   "display_name": "Python 3",
   "language": "python",
   "name": "python3"
  },
  "language_info": {
   "codemirror_mode": {
    "name": "ipython",
    "version": 3
   },
   "file_extension": ".py",
   "mimetype": "text/x-python",
   "name": "python",
   "nbconvert_exporter": "python",
   "pygments_lexer": "ipython3",
   "version": "3.11.2"
  }
 },
 "nbformat": 4,
 "nbformat_minor": 2
}
